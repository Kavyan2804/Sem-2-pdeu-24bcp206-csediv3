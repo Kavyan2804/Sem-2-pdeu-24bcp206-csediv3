{
 "cells": [
  {
   "cell_type": "markdown",
   "metadata": {},
   "source": [
    "List questions"
   ]
  },
  {
   "cell_type": "code",
   "execution_count": 22,
   "metadata": {},
   "outputs": [
    {
     "name": "stdout",
     "output_type": "stream",
     "text": [
      "[13, 11, 3, 15, 29]\n",
      "[10, 2, 20, 16]\n",
      "the replaced list is: [13, 11, 3, [10, 2, 20, 16], 29]\n"
     ]
    }
   ],
   "source": [
    "#Q1\n",
    "import random\n",
    "l1 = [random.randrange(1,40,2) for i in range(5)] \n",
    "l2 = [random.randrange(2,40,2) for i in range(4)] \n",
    "print(l1)\n",
    "print(l2)\n",
    "l1.pop(3)\n",
    "l1.insert(3,l2)\n",
    "print(\"the replaced list is:\", l1)\n"
   ]
  },
  {
   "cell_type": "code",
   "execution_count": null,
   "metadata": {},
   "outputs": [
    {
     "name": "stdout",
     "output_type": "stream",
     "text": [
      "[6, 22, 17, 4, 5, 24, 37, 16, 19, 7, 26, 19, 9, 14, 22, 8, 23, 33, 33, 15]\n"
     ]
    }
   ],
   "source": [
    "#Q2\n",
    "import random\n",
    "l1 = [random.randrange(1,40) for i in range(20)] \n",
    "print(l1)\n",
    "u = int(input(\"enter a number:\"))\n",
    "for j in range(20):\n",
    "    if u ==l1[j]:\n",
    "        print(j)\n",
    "    else:\n",
    "        continue\n",
    "\n",
    "\n"
   ]
  },
  {
   "cell_type": "code",
   "execution_count": 17,
   "metadata": {},
   "outputs": [
    {
     "name": "stdout",
     "output_type": "stream",
     "text": [
      "[18, 29, 22, 15, 4, 23, 18, 4, 12, 18, 10, 27, 9, 1, 3, 19, 21, 26, 6, 22, 21, 24, 6, 16, 1, 5, 27, 29, 6, 6, 4, 7, 16, 8, 20, 3, 22, 10, 24, 3, 24, 27, 12, 28, 20, 29, 7, 14, 25, 2]\n",
      "[15, 23, 9, 19, 26, 5, 8, 28, 14, 25, 2]\n"
     ]
    }
   ],
   "source": [
    "# Q3\n",
    "import random\n",
    "l1 = [random.randrange(1, 30) for _ in range(50)]\n",
    "print(l1)\n",
    "l1_new = []\n",
    "for num in l1:\n",
    "    if l1.count(num) == 1:  \n",
    "        l1_new.append(num)\n",
    "\n",
    "print(l1_new)"
   ]
  },
  {
   "cell_type": "code",
   "execution_count": 18,
   "metadata": {},
   "outputs": [
    {
     "name": "stdout",
     "output_type": "stream",
     "text": [
      "[-5, 15, -18, 8, -6, -7, 2, -17, -16, -13, 16, -19, -16, -16, 0, -8, -2, -3, 6, 11, 15, -2, 16, -19, -10, -7, -14, -20, -15, 10]\n",
      "[-5, -18, -6, -7, -17, -16, -13, -19, -16, -16, -8, -2, -3, -2, -19, -10, -7, -14, -20, -15]\n",
      "[15, 8, 2, 16, 0, 6, 11, 15, 16, 10]\n"
     ]
    }
   ],
   "source": [
    "#Q4\n",
    "import random\n",
    "l1 = [random.randrange(-20,20) for _ in range(30)]\n",
    "print(l1)\n",
    "l2 = []\n",
    "l3 = []\n",
    "for i in range(30):\n",
    "    if l1[i] < 0:\n",
    "        l2.append(l1[i])\n",
    "    else:\n",
    "        l3.append(l1[i])\n",
    "print(l2)\n",
    "print(l3)\n"
   ]
  },
  {
   "cell_type": "code",
   "execution_count": 1,
   "metadata": {},
   "outputs": [
    {
     "name": "stdout",
     "output_type": "stream",
     "text": [
      "AARIN\n",
      "KAVYAN\n",
      "JAAANUUU\n",
      "YASHITA\n",
      "PREXA\n"
     ]
    }
   ],
   "source": [
    "#Q5\n",
    "st =[\"aarin\", \"kavyan\", \"jaaanuuu\", \"yashita\", \"prexa\"]\n",
    "def upper_case(s):\n",
    "    newstr=''\n",
    "    for i in s:\n",
    "        if 'a'<= i <='z':\n",
    "            i=chr(ord(i)-32)\n",
    "        newstr+=i    \n",
    "    return newstr\n",
    "for  j in range(5):\n",
    "   print( upper_case(st[j])  ) "
   ]
  },
  {
   "cell_type": "code",
   "execution_count": null,
   "metadata": {},
   "outputs": [
    {
     "name": "stdout",
     "output_type": "stream",
     "text": [
      "[-40.0, 20.0, 100.0]\n"
     ]
    }
   ],
   "source": [
    "#Q6\n",
    "def f_c(fah):\n",
    "  cels = [(f - 32) * 5/9 for f in fah]\n",
    "  return cels\n",
    "fahren = [-40, 68, 212]\n",
    "celsius = f_c(fahren)\n",
    "print(celsius) "
   ]
  },
  {
   "cell_type": "code",
   "execution_count": null,
   "metadata": {},
   "outputs": [
    {
     "name": "stdout",
     "output_type": "stream",
     "text": [
      "[1, 3, 5, 7, 9]\n"
     ]
    }
   ],
   "source": [
    "#Q9\n",
    "list1 = [1, 2, 3, 4, 5, 6, 7, 8, 9]\n",
    "list2 = [2, 4, 6, 8]\n",
    "list3 = [num for num in list1 if num not in list2]\n",
    "print(list3)"
   ]
  }
 ],
 "metadata": {
  "kernelspec": {
   "display_name": "Python 3",
   "language": "python",
   "name": "python3"
  },
  "language_info": {
   "codemirror_mode": {
    "name": "ipython",
    "version": 3
   },
   "file_extension": ".py",
   "mimetype": "text/x-python",
   "name": "python",
   "nbconvert_exporter": "python",
   "pygments_lexer": "ipython3",
   "version": "3.13.1"
  }
 },
 "nbformat": 4,
 "nbformat_minor": 2
}
