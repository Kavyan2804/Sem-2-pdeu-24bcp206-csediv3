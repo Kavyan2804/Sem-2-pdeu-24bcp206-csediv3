{
 "cells": [
  {
   "cell_type": "markdown",
   "metadata": {},
   "source": [
    "Sets Questions"
   ]
  },
  {
   "cell_type": "code",
   "execution_count": 1,
   "metadata": {},
   "outputs": [
    {
     "name": "stdout",
     "output_type": "stream",
     "text": [
      "{'D', 'C', 'B', 'A'}\n"
     ]
    }
   ],
   "source": [
    "# Q1\n",
    "l = ['a','b','c','d']\n",
    "s = set()\n",
    "for i in l:\n",
    "    s.add(i.upper())\n",
    "print(s)"
   ]
  },
  {
   "cell_type": "code",
   "execution_count": 12,
   "metadata": {},
   "outputs": [
    {
     "name": "stdout",
     "output_type": "stream",
     "text": [
      "{32, 36, 43, 45, 15, 22, 23}\n",
      "[32, 36, 43, 45, 15, 22, 23]\n",
      "{32, 43, 15, 22, 23}\n",
      "2\n"
     ]
    }
   ],
   "source": [
    "# Q2\n",
    "import random\n",
    "s = set()\n",
    "count = 0\n",
    "for i in range(10):\n",
    "    s.add(random.randint(15,45))\n",
    "print(s)\n",
    "l = list(s)\n",
    "print(l)\n",
    "for j in l:\n",
    "    if(j<=30):\n",
    "        count +=1\n",
    "    if(j>35):\n",
    "        l.remove(j)\n",
    "s = set(l)\n",
    "print(s)\n",
    "print(count)"
   ]
  },
  {
   "cell_type": "code",
   "execution_count": 17,
   "metadata": {},
   "outputs": [
    {
     "name": "stdout",
     "output_type": "stream",
     "text": [
      "{'yashita', 'jaynil', 'kavyan', 'janvi', 'aarin'}\n",
      "{'yashita', 'kavy', 'jaynil', 'janvi', 'aarin'}\n",
      "{'kavy', 'jaynil', 'janvi'}\n"
     ]
    }
   ],
   "source": [
    "# Q3\n",
    "s = set()\n",
    "s.add('janvi')\n",
    "s.add('kavyan')\n",
    "s.add('yashita')\n",
    "s.add('aarin')\n",
    "s.add('jaynil')\n",
    "print(s)\n",
    "l = []\n",
    "l = list(s)\n",
    "l.pop(2)\n",
    "l.insert(2,'kavy')\n",
    "s= set(l)\n",
    "print(s)\n",
    "s.remove('yashita')\n",
    "s.remove('aarin')\n",
    "print(s)"
   ]
  },
  {
   "cell_type": "code",
   "execution_count": 20,
   "metadata": {},
   "outputs": [
    {
     "name": "stdout",
     "output_type": "stream",
     "text": [
      "['Bobby', 'Aarin', 'Bob', 'Aaru', 'Bulbul', 'Aditya']\n",
      "{'Aarin', 'Aditya', 'Aaru'}\n",
      "{'Bobby', 'Bob', 'Bulbul'}\n"
     ]
    }
   ],
   "source": [
    "# Q4\n",
    "s = {'Aarin','Bob','Bobby','Aaru','Aditya','Bulbul'}\n",
    "l1= []\n",
    "l2 = []\n",
    "l = list(s)\n",
    "print(l)\n",
    "for i in l:\n",
    "    if i[0] == 'A':\n",
    "        l1.append(i)\n",
    "    else:\n",
    "        l2.append(i)\n",
    "s2 = set(l2)\n",
    "s1 = set(l1)\n",
    "print(s1)\n",
    "print(s2)\n",
    "\n"
   ]
  }
 ],
 "metadata": {
  "kernelspec": {
   "display_name": "Python 3",
   "language": "python",
   "name": "python3"
  },
  "language_info": {
   "codemirror_mode": {
    "name": "ipython",
    "version": 3
   },
   "file_extension": ".py",
   "mimetype": "text/x-python",
   "name": "python",
   "nbconvert_exporter": "python",
   "pygments_lexer": "ipython3",
   "version": "3.13.1"
  }
 },
 "nbformat": 4,
 "nbformat_minor": 2
}
